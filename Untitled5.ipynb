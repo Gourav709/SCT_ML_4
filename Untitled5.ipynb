{
  "nbformat": 4,
  "nbformat_minor": 0,
  "metadata": {
    "colab": {
      "provenance": [],
      "authorship_tag": "ABX9TyM/kkreVMVn4x+pVwyCXJbY",
      "include_colab_link": true
    },
    "kernelspec": {
      "name": "python3",
      "display_name": "Python 3"
    },
    "language_info": {
      "name": "python"
    }
  },
  "cells": [
    {
      "cell_type": "markdown",
      "metadata": {
        "id": "view-in-github",
        "colab_type": "text"
      },
      "source": [
        "<a href=\"https://colab.research.google.com/github/Gourav709/SCT_ML_4/blob/main/Untitled5.ipynb\" target=\"_parent\"><img src=\"https://colab.research.google.com/assets/colab-badge.svg\" alt=\"Open In Colab\"/></a>"
      ]
    },
    {
      "cell_type": "code",
      "execution_count": 1,
      "metadata": {
        "colab": {
          "base_uri": "https://localhost:8080/"
        },
        "id": "HjmB8Qmp55cZ",
        "outputId": "1df1b20c-026b-45fd-b177-352f3d79c7b2"
      },
      "outputs": [
        {
          "output_type": "stream",
          "name": "stdout",
          "text": [
            "Collecting opendatasets\n",
            "  Downloading opendatasets-0.1.22-py3-none-any.whl.metadata (9.2 kB)\n",
            "Requirement already satisfied: tqdm in /usr/local/lib/python3.11/dist-packages (from opendatasets) (4.67.1)\n",
            "Requirement already satisfied: kaggle in /usr/local/lib/python3.11/dist-packages (from opendatasets) (1.7.4.5)\n",
            "Requirement already satisfied: click in /usr/local/lib/python3.11/dist-packages (from opendatasets) (8.2.1)\n",
            "Requirement already satisfied: bleach in /usr/local/lib/python3.11/dist-packages (from kaggle->opendatasets) (6.2.0)\n",
            "Requirement already satisfied: certifi>=14.05.14 in /usr/local/lib/python3.11/dist-packages (from kaggle->opendatasets) (2025.7.14)\n",
            "Requirement already satisfied: charset-normalizer in /usr/local/lib/python3.11/dist-packages (from kaggle->opendatasets) (3.4.2)\n",
            "Requirement already satisfied: idna in /usr/local/lib/python3.11/dist-packages (from kaggle->opendatasets) (3.10)\n",
            "Requirement already satisfied: protobuf in /usr/local/lib/python3.11/dist-packages (from kaggle->opendatasets) (5.29.5)\n",
            "Requirement already satisfied: python-dateutil>=2.5.3 in /usr/local/lib/python3.11/dist-packages (from kaggle->opendatasets) (2.9.0.post0)\n",
            "Requirement already satisfied: python-slugify in /usr/local/lib/python3.11/dist-packages (from kaggle->opendatasets) (8.0.4)\n",
            "Requirement already satisfied: requests in /usr/local/lib/python3.11/dist-packages (from kaggle->opendatasets) (2.32.3)\n",
            "Requirement already satisfied: setuptools>=21.0.0 in /usr/local/lib/python3.11/dist-packages (from kaggle->opendatasets) (75.2.0)\n",
            "Requirement already satisfied: six>=1.10 in /usr/local/lib/python3.11/dist-packages (from kaggle->opendatasets) (1.17.0)\n",
            "Requirement already satisfied: text-unidecode in /usr/local/lib/python3.11/dist-packages (from kaggle->opendatasets) (1.3)\n",
            "Requirement already satisfied: urllib3>=1.15.1 in /usr/local/lib/python3.11/dist-packages (from kaggle->opendatasets) (2.5.0)\n",
            "Requirement already satisfied: webencodings in /usr/local/lib/python3.11/dist-packages (from kaggle->opendatasets) (0.5.1)\n",
            "Downloading opendatasets-0.1.22-py3-none-any.whl (15 kB)\n",
            "Installing collected packages: opendatasets\n",
            "Successfully installed opendatasets-0.1.22\n"
          ]
        }
      ],
      "source": [
        "! pip install opendatasets"
      ]
    },
    {
      "cell_type": "code",
      "source": [
        "import opendatasets as od"
      ],
      "metadata": {
        "id": "YRqSJzNd6eoH"
      },
      "execution_count": 2,
      "outputs": []
    },
    {
      "cell_type": "code",
      "source": [
        "od.download(\"https://www.kaggle.com/datasets/gti-upm/leapgestrecog\")"
      ],
      "metadata": {
        "colab": {
          "base_uri": "https://localhost:8080/"
        },
        "id": "pHoRm9-p6gfm",
        "outputId": "b2b013d1-5058-4083-cb2a-0bfde80eadfc"
      },
      "execution_count": 3,
      "outputs": [
        {
          "output_type": "stream",
          "name": "stdout",
          "text": [
            "Please provide your Kaggle credentials to download this dataset. Learn more: http://bit.ly/kaggle-creds\n",
            "Your Kaggle username: gouravvaranasi\n",
            "Your Kaggle Key: ··········\n",
            "Dataset URL: https://www.kaggle.com/datasets/gti-upm/leapgestrecog\n",
            "Downloading leapgestrecog.zip to ./leapgestrecog\n"
          ]
        },
        {
          "output_type": "stream",
          "name": "stderr",
          "text": [
            "100%|██████████| 2.13G/2.13G [00:13<00:00, 174MB/s]\n"
          ]
        },
        {
          "output_type": "stream",
          "name": "stdout",
          "text": [
            "\n"
          ]
        }
      ]
    },
    {
      "cell_type": "code",
      "source": [
        "import os\n",
        "\n",
        "for root, dirs, files in os.walk(\"/content\"):\n",
        "    print(root)"
      ],
      "metadata": {
        "colab": {
          "base_uri": "https://localhost:8080/"
        },
        "id": "l5k6jY9h625u",
        "outputId": "8e52e749-f7e9-4c49-9958-c52215f87b92"
      },
      "execution_count": 4,
      "outputs": [
        {
          "output_type": "stream",
          "name": "stdout",
          "text": [
            "/content\n",
            "/content/.config\n",
            "/content/.config/logs\n",
            "/content/.config/logs/2025.07.29\n",
            "/content/.config/configurations\n",
            "/content/leapgestrecog\n",
            "/content/leapgestrecog/leapgestrecog\n",
            "/content/leapgestrecog/leapgestrecog/leapGestRecog\n",
            "/content/leapgestrecog/leapgestrecog/leapGestRecog/08\n",
            "/content/leapgestrecog/leapgestrecog/leapGestRecog/08/04_fist_moved\n",
            "/content/leapgestrecog/leapgestrecog/leapGestRecog/08/02_l\n",
            "/content/leapgestrecog/leapgestrecog/leapGestRecog/08/07_ok\n",
            "/content/leapgestrecog/leapgestrecog/leapGestRecog/08/08_palm_moved\n",
            "/content/leapgestrecog/leapgestrecog/leapGestRecog/08/10_down\n",
            "/content/leapgestrecog/leapgestrecog/leapGestRecog/08/01_palm\n",
            "/content/leapgestrecog/leapgestrecog/leapGestRecog/08/09_c\n",
            "/content/leapgestrecog/leapgestrecog/leapGestRecog/08/05_thumb\n",
            "/content/leapgestrecog/leapgestrecog/leapGestRecog/08/03_fist\n",
            "/content/leapgestrecog/leapgestrecog/leapGestRecog/08/06_index\n",
            "/content/leapgestrecog/leapgestrecog/leapGestRecog/02\n",
            "/content/leapgestrecog/leapgestrecog/leapGestRecog/02/04_fist_moved\n",
            "/content/leapgestrecog/leapgestrecog/leapGestRecog/02/02_l\n",
            "/content/leapgestrecog/leapgestrecog/leapGestRecog/02/07_ok\n",
            "/content/leapgestrecog/leapgestrecog/leapGestRecog/02/08_palm_moved\n",
            "/content/leapgestrecog/leapgestrecog/leapGestRecog/02/10_down\n",
            "/content/leapgestrecog/leapgestrecog/leapGestRecog/02/01_palm\n",
            "/content/leapgestrecog/leapgestrecog/leapGestRecog/02/09_c\n",
            "/content/leapgestrecog/leapgestrecog/leapGestRecog/02/05_thumb\n",
            "/content/leapgestrecog/leapgestrecog/leapGestRecog/02/03_fist\n",
            "/content/leapgestrecog/leapgestrecog/leapGestRecog/02/06_index\n",
            "/content/leapgestrecog/leapgestrecog/leapGestRecog/03\n",
            "/content/leapgestrecog/leapgestrecog/leapGestRecog/03/04_fist_moved\n",
            "/content/leapgestrecog/leapgestrecog/leapGestRecog/03/02_l\n",
            "/content/leapgestrecog/leapgestrecog/leapGestRecog/03/07_ok\n",
            "/content/leapgestrecog/leapgestrecog/leapGestRecog/03/08_palm_moved\n",
            "/content/leapgestrecog/leapgestrecog/leapGestRecog/03/10_down\n",
            "/content/leapgestrecog/leapgestrecog/leapGestRecog/03/01_palm\n",
            "/content/leapgestrecog/leapgestrecog/leapGestRecog/03/09_c\n",
            "/content/leapgestrecog/leapgestrecog/leapGestRecog/03/05_thumb\n",
            "/content/leapgestrecog/leapgestrecog/leapGestRecog/03/03_fist\n",
            "/content/leapgestrecog/leapgestrecog/leapGestRecog/03/06_index\n",
            "/content/leapgestrecog/leapgestrecog/leapGestRecog/01\n",
            "/content/leapgestrecog/leapgestrecog/leapGestRecog/01/04_fist_moved\n",
            "/content/leapgestrecog/leapgestrecog/leapGestRecog/01/02_l\n",
            "/content/leapgestrecog/leapgestrecog/leapGestRecog/01/07_ok\n",
            "/content/leapgestrecog/leapgestrecog/leapGestRecog/01/08_palm_moved\n",
            "/content/leapgestrecog/leapgestrecog/leapGestRecog/01/10_down\n",
            "/content/leapgestrecog/leapgestrecog/leapGestRecog/01/01_palm\n",
            "/content/leapgestrecog/leapgestrecog/leapGestRecog/01/09_c\n",
            "/content/leapgestrecog/leapgestrecog/leapGestRecog/01/05_thumb\n",
            "/content/leapgestrecog/leapgestrecog/leapGestRecog/01/03_fist\n",
            "/content/leapgestrecog/leapgestrecog/leapGestRecog/01/06_index\n",
            "/content/leapgestrecog/leapgestrecog/leapGestRecog/07\n",
            "/content/leapgestrecog/leapgestrecog/leapGestRecog/07/04_fist_moved\n",
            "/content/leapgestrecog/leapgestrecog/leapGestRecog/07/02_l\n",
            "/content/leapgestrecog/leapgestrecog/leapGestRecog/07/07_ok\n",
            "/content/leapgestrecog/leapgestrecog/leapGestRecog/07/08_palm_moved\n",
            "/content/leapgestrecog/leapgestrecog/leapGestRecog/07/10_down\n",
            "/content/leapgestrecog/leapgestrecog/leapGestRecog/07/01_palm\n",
            "/content/leapgestrecog/leapgestrecog/leapGestRecog/07/09_c\n",
            "/content/leapgestrecog/leapgestrecog/leapGestRecog/07/05_thumb\n",
            "/content/leapgestrecog/leapgestrecog/leapGestRecog/07/03_fist\n",
            "/content/leapgestrecog/leapgestrecog/leapGestRecog/07/06_index\n",
            "/content/leapgestrecog/leapgestrecog/leapGestRecog/05\n",
            "/content/leapgestrecog/leapgestrecog/leapGestRecog/05/04_fist_moved\n",
            "/content/leapgestrecog/leapgestrecog/leapGestRecog/05/02_l\n",
            "/content/leapgestrecog/leapgestrecog/leapGestRecog/05/07_ok\n",
            "/content/leapgestrecog/leapgestrecog/leapGestRecog/05/08_palm_moved\n",
            "/content/leapgestrecog/leapgestrecog/leapGestRecog/05/10_down\n",
            "/content/leapgestrecog/leapgestrecog/leapGestRecog/05/01_palm\n",
            "/content/leapgestrecog/leapgestrecog/leapGestRecog/05/09_c\n",
            "/content/leapgestrecog/leapgestrecog/leapGestRecog/05/05_thumb\n",
            "/content/leapgestrecog/leapgestrecog/leapGestRecog/05/03_fist\n",
            "/content/leapgestrecog/leapgestrecog/leapGestRecog/05/06_index\n",
            "/content/leapgestrecog/leapgestrecog/leapGestRecog/04\n",
            "/content/leapgestrecog/leapgestrecog/leapGestRecog/04/04_fist_moved\n",
            "/content/leapgestrecog/leapgestrecog/leapGestRecog/04/02_l\n",
            "/content/leapgestrecog/leapgestrecog/leapGestRecog/04/07_ok\n",
            "/content/leapgestrecog/leapgestrecog/leapGestRecog/04/08_palm_moved\n",
            "/content/leapgestrecog/leapgestrecog/leapGestRecog/04/10_down\n",
            "/content/leapgestrecog/leapgestrecog/leapGestRecog/04/01_palm\n",
            "/content/leapgestrecog/leapgestrecog/leapGestRecog/04/09_c\n",
            "/content/leapgestrecog/leapgestrecog/leapGestRecog/04/05_thumb\n",
            "/content/leapgestrecog/leapgestrecog/leapGestRecog/04/03_fist\n",
            "/content/leapgestrecog/leapgestrecog/leapGestRecog/04/06_index\n",
            "/content/leapgestrecog/leapgestrecog/leapGestRecog/00\n",
            "/content/leapgestrecog/leapgestrecog/leapGestRecog/00/04_fist_moved\n",
            "/content/leapgestrecog/leapgestrecog/leapGestRecog/00/02_l\n",
            "/content/leapgestrecog/leapgestrecog/leapGestRecog/00/07_ok\n",
            "/content/leapgestrecog/leapgestrecog/leapGestRecog/00/08_palm_moved\n",
            "/content/leapgestrecog/leapgestrecog/leapGestRecog/00/10_down\n",
            "/content/leapgestrecog/leapgestrecog/leapGestRecog/00/01_palm\n",
            "/content/leapgestrecog/leapgestrecog/leapGestRecog/00/09_c\n",
            "/content/leapgestrecog/leapgestrecog/leapGestRecog/00/05_thumb\n",
            "/content/leapgestrecog/leapgestrecog/leapGestRecog/00/03_fist\n",
            "/content/leapgestrecog/leapgestrecog/leapGestRecog/00/06_index\n",
            "/content/leapgestrecog/leapgestrecog/leapGestRecog/09\n",
            "/content/leapgestrecog/leapgestrecog/leapGestRecog/09/04_fist_moved\n",
            "/content/leapgestrecog/leapgestrecog/leapGestRecog/09/02_l\n",
            "/content/leapgestrecog/leapgestrecog/leapGestRecog/09/07_ok\n",
            "/content/leapgestrecog/leapgestrecog/leapGestRecog/09/08_palm_moved\n",
            "/content/leapgestrecog/leapgestrecog/leapGestRecog/09/10_down\n",
            "/content/leapgestrecog/leapgestrecog/leapGestRecog/09/01_palm\n",
            "/content/leapgestrecog/leapgestrecog/leapGestRecog/09/09_c\n",
            "/content/leapgestrecog/leapgestrecog/leapGestRecog/09/05_thumb\n",
            "/content/leapgestrecog/leapgestrecog/leapGestRecog/09/03_fist\n",
            "/content/leapgestrecog/leapgestrecog/leapGestRecog/09/06_index\n",
            "/content/leapgestrecog/leapgestrecog/leapGestRecog/06\n",
            "/content/leapgestrecog/leapgestrecog/leapGestRecog/06/04_fist_moved\n",
            "/content/leapgestrecog/leapgestrecog/leapGestRecog/06/02_l\n",
            "/content/leapgestrecog/leapgestrecog/leapGestRecog/06/07_ok\n",
            "/content/leapgestrecog/leapgestrecog/leapGestRecog/06/08_palm_moved\n",
            "/content/leapgestrecog/leapgestrecog/leapGestRecog/06/10_down\n",
            "/content/leapgestrecog/leapgestrecog/leapGestRecog/06/01_palm\n",
            "/content/leapgestrecog/leapgestrecog/leapGestRecog/06/09_c\n",
            "/content/leapgestrecog/leapgestrecog/leapGestRecog/06/05_thumb\n",
            "/content/leapgestrecog/leapgestrecog/leapGestRecog/06/03_fist\n",
            "/content/leapgestrecog/leapgestrecog/leapGestRecog/06/06_index\n",
            "/content/leapgestrecog/leapGestRecog\n",
            "/content/leapgestrecog/leapGestRecog/08\n",
            "/content/leapgestrecog/leapGestRecog/08/04_fist_moved\n",
            "/content/leapgestrecog/leapGestRecog/08/02_l\n",
            "/content/leapgestrecog/leapGestRecog/08/07_ok\n",
            "/content/leapgestrecog/leapGestRecog/08/08_palm_moved\n",
            "/content/leapgestrecog/leapGestRecog/08/10_down\n",
            "/content/leapgestrecog/leapGestRecog/08/01_palm\n",
            "/content/leapgestrecog/leapGestRecog/08/09_c\n",
            "/content/leapgestrecog/leapGestRecog/08/05_thumb\n",
            "/content/leapgestrecog/leapGestRecog/08/03_fist\n",
            "/content/leapgestrecog/leapGestRecog/08/06_index\n",
            "/content/leapgestrecog/leapGestRecog/02\n",
            "/content/leapgestrecog/leapGestRecog/02/04_fist_moved\n",
            "/content/leapgestrecog/leapGestRecog/02/02_l\n",
            "/content/leapgestrecog/leapGestRecog/02/07_ok\n",
            "/content/leapgestrecog/leapGestRecog/02/08_palm_moved\n",
            "/content/leapgestrecog/leapGestRecog/02/10_down\n",
            "/content/leapgestrecog/leapGestRecog/02/01_palm\n",
            "/content/leapgestrecog/leapGestRecog/02/09_c\n",
            "/content/leapgestrecog/leapGestRecog/02/05_thumb\n",
            "/content/leapgestrecog/leapGestRecog/02/03_fist\n",
            "/content/leapgestrecog/leapGestRecog/02/06_index\n",
            "/content/leapgestrecog/leapGestRecog/03\n",
            "/content/leapgestrecog/leapGestRecog/03/04_fist_moved\n",
            "/content/leapgestrecog/leapGestRecog/03/02_l\n",
            "/content/leapgestrecog/leapGestRecog/03/07_ok\n",
            "/content/leapgestrecog/leapGestRecog/03/08_palm_moved\n",
            "/content/leapgestrecog/leapGestRecog/03/10_down\n",
            "/content/leapgestrecog/leapGestRecog/03/01_palm\n",
            "/content/leapgestrecog/leapGestRecog/03/09_c\n",
            "/content/leapgestrecog/leapGestRecog/03/05_thumb\n",
            "/content/leapgestrecog/leapGestRecog/03/03_fist\n",
            "/content/leapgestrecog/leapGestRecog/03/06_index\n",
            "/content/leapgestrecog/leapGestRecog/01\n",
            "/content/leapgestrecog/leapGestRecog/01/04_fist_moved\n",
            "/content/leapgestrecog/leapGestRecog/01/02_l\n",
            "/content/leapgestrecog/leapGestRecog/01/07_ok\n",
            "/content/leapgestrecog/leapGestRecog/01/08_palm_moved\n",
            "/content/leapgestrecog/leapGestRecog/01/10_down\n",
            "/content/leapgestrecog/leapGestRecog/01/01_palm\n",
            "/content/leapgestrecog/leapGestRecog/01/09_c\n",
            "/content/leapgestrecog/leapGestRecog/01/05_thumb\n",
            "/content/leapgestrecog/leapGestRecog/01/03_fist\n",
            "/content/leapgestrecog/leapGestRecog/01/06_index\n",
            "/content/leapgestrecog/leapGestRecog/07\n",
            "/content/leapgestrecog/leapGestRecog/07/04_fist_moved\n",
            "/content/leapgestrecog/leapGestRecog/07/02_l\n",
            "/content/leapgestrecog/leapGestRecog/07/07_ok\n",
            "/content/leapgestrecog/leapGestRecog/07/08_palm_moved\n",
            "/content/leapgestrecog/leapGestRecog/07/10_down\n",
            "/content/leapgestrecog/leapGestRecog/07/01_palm\n",
            "/content/leapgestrecog/leapGestRecog/07/09_c\n",
            "/content/leapgestrecog/leapGestRecog/07/05_thumb\n",
            "/content/leapgestrecog/leapGestRecog/07/03_fist\n",
            "/content/leapgestrecog/leapGestRecog/07/06_index\n",
            "/content/leapgestrecog/leapGestRecog/05\n",
            "/content/leapgestrecog/leapGestRecog/05/04_fist_moved\n",
            "/content/leapgestrecog/leapGestRecog/05/02_l\n",
            "/content/leapgestrecog/leapGestRecog/05/07_ok\n",
            "/content/leapgestrecog/leapGestRecog/05/08_palm_moved\n",
            "/content/leapgestrecog/leapGestRecog/05/10_down\n",
            "/content/leapgestrecog/leapGestRecog/05/01_palm\n",
            "/content/leapgestrecog/leapGestRecog/05/09_c\n",
            "/content/leapgestrecog/leapGestRecog/05/05_thumb\n",
            "/content/leapgestrecog/leapGestRecog/05/03_fist\n",
            "/content/leapgestrecog/leapGestRecog/05/06_index\n",
            "/content/leapgestrecog/leapGestRecog/04\n",
            "/content/leapgestrecog/leapGestRecog/04/04_fist_moved\n",
            "/content/leapgestrecog/leapGestRecog/04/02_l\n",
            "/content/leapgestrecog/leapGestRecog/04/07_ok\n",
            "/content/leapgestrecog/leapGestRecog/04/08_palm_moved\n",
            "/content/leapgestrecog/leapGestRecog/04/10_down\n",
            "/content/leapgestrecog/leapGestRecog/04/01_palm\n",
            "/content/leapgestrecog/leapGestRecog/04/09_c\n",
            "/content/leapgestrecog/leapGestRecog/04/05_thumb\n",
            "/content/leapgestrecog/leapGestRecog/04/03_fist\n",
            "/content/leapgestrecog/leapGestRecog/04/06_index\n",
            "/content/leapgestrecog/leapGestRecog/00\n",
            "/content/leapgestrecog/leapGestRecog/00/04_fist_moved\n",
            "/content/leapgestrecog/leapGestRecog/00/02_l\n",
            "/content/leapgestrecog/leapGestRecog/00/07_ok\n",
            "/content/leapgestrecog/leapGestRecog/00/08_palm_moved\n",
            "/content/leapgestrecog/leapGestRecog/00/10_down\n",
            "/content/leapgestrecog/leapGestRecog/00/01_palm\n",
            "/content/leapgestrecog/leapGestRecog/00/09_c\n",
            "/content/leapgestrecog/leapGestRecog/00/05_thumb\n",
            "/content/leapgestrecog/leapGestRecog/00/03_fist\n",
            "/content/leapgestrecog/leapGestRecog/00/06_index\n",
            "/content/leapgestrecog/leapGestRecog/09\n",
            "/content/leapgestrecog/leapGestRecog/09/04_fist_moved\n",
            "/content/leapgestrecog/leapGestRecog/09/02_l\n",
            "/content/leapgestrecog/leapGestRecog/09/07_ok\n",
            "/content/leapgestrecog/leapGestRecog/09/08_palm_moved\n",
            "/content/leapgestrecog/leapGestRecog/09/10_down\n",
            "/content/leapgestrecog/leapGestRecog/09/01_palm\n",
            "/content/leapgestrecog/leapGestRecog/09/09_c\n",
            "/content/leapgestrecog/leapGestRecog/09/05_thumb\n",
            "/content/leapgestrecog/leapGestRecog/09/03_fist\n",
            "/content/leapgestrecog/leapGestRecog/09/06_index\n",
            "/content/leapgestrecog/leapGestRecog/06\n",
            "/content/leapgestrecog/leapGestRecog/06/04_fist_moved\n",
            "/content/leapgestrecog/leapGestRecog/06/02_l\n",
            "/content/leapgestrecog/leapGestRecog/06/07_ok\n",
            "/content/leapgestrecog/leapGestRecog/06/08_palm_moved\n",
            "/content/leapgestrecog/leapGestRecog/06/10_down\n",
            "/content/leapgestrecog/leapGestRecog/06/01_palm\n",
            "/content/leapgestrecog/leapGestRecog/06/09_c\n",
            "/content/leapgestrecog/leapGestRecog/06/05_thumb\n",
            "/content/leapgestrecog/leapGestRecog/06/03_fist\n",
            "/content/leapgestrecog/leapGestRecog/06/06_index\n",
            "/content/sample_data\n"
          ]
        }
      ]
    },
    {
      "cell_type": "code",
      "source": [
        "data_dir = \"/content/leapgestrecog/leapgestrecog/leapGestRecog\""
      ],
      "metadata": {
        "id": "ByMdlXJC65zJ"
      },
      "execution_count": 5,
      "outputs": []
    },
    {
      "cell_type": "code",
      "source": [
        "import os\n",
        "data_dir = \"/content/leapgestrecog/leapgestrecog/leapGestRecog\""
      ],
      "metadata": {
        "id": "M8dCd-rj68ry"
      },
      "execution_count": 6,
      "outputs": []
    },
    {
      "cell_type": "code",
      "source": [
        "import cv2\n",
        "import numpy as np\n",
        "\n",
        "IMG_SIZE = 64\n",
        "X = []\n",
        "y = []\n",
        "labels = {}\n",
        "label_count = 0\n",
        "\n",
        "# Loop through each person\n",
        "for person in os.listdir(data_dir):\n",
        "    person_path = os.path.join(data_dir, person)\n",
        "    if os.path.isdir(person_path):\n",
        "        for gesture_name in os.listdir(person_path):\n",
        "            gesture_path = os.path.join(person_path, gesture_name)\n",
        "            if os.path.isdir(gesture_path):\n",
        "                if gesture_name not in labels:\n",
        "                    labels[gesture_name] = label_count\n",
        "                    label_count += 1\n",
        "                for image_file in os.listdir(gesture_path):\n",
        "                    img_path = os.path.join(gesture_path, image_file)\n",
        "                    img = cv2.imread(img_path, cv2.IMREAD_GRAYSCALE)\n",
        "                    if img is not None:\n",
        "                        img = cv2.resize(img, (IMG_SIZE, IMG_SIZE))\n",
        "                        X.append(img)\n",
        "                        y.append(labels[gesture_name])\n",
        "\n",
        "X = np.array(X).reshape(-1, IMG_SIZE, IMG_SIZE, 1) / 255.0\n",
        "y = np.array(y)\n",
        "\n",
        "print(f\"Loaded {len(X)} images from {len(labels)} gesture classes.\")"
      ],
      "metadata": {
        "colab": {
          "base_uri": "https://localhost:8080/"
        },
        "id": "4prLnUEh6_BR",
        "outputId": "73d3aaf7-e958-4e19-9a77-32d45d854830"
      },
      "execution_count": 7,
      "outputs": [
        {
          "output_type": "stream",
          "name": "stdout",
          "text": [
            "Loaded 20000 images from 10 gesture classes.\n"
          ]
        }
      ]
    },
    {
      "cell_type": "code",
      "source": [
        "from sklearn.model_selection import train_test_split\n",
        "from tensorflow.keras.utils import to_categorical\n",
        "\n",
        "X_train, X_test, y_train, y_test = train_test_split(X, y, test_size=0.2, random_state=42)\n",
        "y_train = to_categorical(y_train, num_classes=len(labels))\n",
        "y_test = to_categorical(y_test, num_classes=len(labels))"
      ],
      "metadata": {
        "id": "pOCMKSvv7On-"
      },
      "execution_count": 8,
      "outputs": []
    },
    {
      "cell_type": "code",
      "source": [
        "from tensorflow.keras.models import Sequential\n",
        "from tensorflow.keras.layers import Conv2D, MaxPooling2D, Flatten, Dense, Dropout\n",
        "\n",
        "model = Sequential([\n",
        "    Conv2D(32, (3,3), activation='relu', input_shape=(IMG_SIZE, IMG_SIZE, 1)),\n",
        "    MaxPooling2D(2,2),\n",
        "    Conv2D(64, (3,3), activation='relu'),\n",
        "    MaxPooling2D(2,2),\n",
        "    Flatten(),\n",
        "    Dropout(0.3),\n",
        "    Dense(128, activation='relu'),\n",
        "    Dense(len(labels), activation='softmax')\n",
        "])\n",
        "\n",
        "model.compile(optimizer='adam', loss='categorical_crossentropy', metrics=['accuracy'])\n",
        "\n",
        "model.fit(X_train, y_train, epochs=10, validation_data=(X_test, y_test))"
      ],
      "metadata": {
        "colab": {
          "base_uri": "https://localhost:8080/"
        },
        "id": "fdzYRx9Z7bfJ",
        "outputId": "aed1e7db-931d-4afa-caec-487cf507515c"
      },
      "execution_count": 9,
      "outputs": [
        {
          "output_type": "stream",
          "name": "stderr",
          "text": [
            "/usr/local/lib/python3.11/dist-packages/keras/src/layers/convolutional/base_conv.py:107: UserWarning: Do not pass an `input_shape`/`input_dim` argument to a layer. When using Sequential models, prefer using an `Input(shape)` object as the first layer in the model instead.\n",
            "  super().__init__(activity_regularizer=activity_regularizer, **kwargs)\n"
          ]
        },
        {
          "output_type": "stream",
          "name": "stdout",
          "text": [
            "Epoch 1/10\n",
            "\u001b[1m500/500\u001b[0m \u001b[32m━━━━━━━━━━━━━━━━━━━━\u001b[0m\u001b[37m\u001b[0m \u001b[1m86s\u001b[0m 168ms/step - accuracy: 0.7915 - loss: 0.6623 - val_accuracy: 0.9927 - val_loss: 0.0236\n",
            "Epoch 2/10\n",
            "\u001b[1m500/500\u001b[0m \u001b[32m━━━━━━━━━━━━━━━━━━━━\u001b[0m\u001b[37m\u001b[0m \u001b[1m142s\u001b[0m 169ms/step - accuracy: 0.9946 - loss: 0.0172 - val_accuracy: 0.9990 - val_loss: 0.0023\n",
            "Epoch 3/10\n",
            "\u001b[1m500/500\u001b[0m \u001b[32m━━━━━━━━━━━━━━━━━━━━\u001b[0m\u001b[37m\u001b[0m \u001b[1m142s\u001b[0m 169ms/step - accuracy: 0.9966 - loss: 0.0091 - val_accuracy: 0.9990 - val_loss: 0.0033\n",
            "Epoch 4/10\n",
            "\u001b[1m500/500\u001b[0m \u001b[32m━━━━━━━━━━━━━━━━━━━━\u001b[0m\u001b[37m\u001b[0m \u001b[1m140s\u001b[0m 165ms/step - accuracy: 0.9997 - loss: 0.0021 - val_accuracy: 0.9995 - val_loss: 0.0020\n",
            "Epoch 5/10\n",
            "\u001b[1m500/500\u001b[0m \u001b[32m━━━━━━━━━━━━━━━━━━━━\u001b[0m\u001b[37m\u001b[0m \u001b[1m142s\u001b[0m 165ms/step - accuracy: 0.9997 - loss: 9.2701e-04 - val_accuracy: 0.9998 - val_loss: 8.3972e-04\n",
            "Epoch 6/10\n",
            "\u001b[1m500/500\u001b[0m \u001b[32m━━━━━━━━━━━━━━━━━━━━\u001b[0m\u001b[37m\u001b[0m \u001b[1m83s\u001b[0m 165ms/step - accuracy: 1.0000 - loss: 1.4177e-04 - val_accuracy: 0.9998 - val_loss: 8.3535e-04\n",
            "Epoch 7/10\n",
            "\u001b[1m500/500\u001b[0m \u001b[32m━━━━━━━━━━━━━━━━━━━━\u001b[0m\u001b[37m\u001b[0m \u001b[1m149s\u001b[0m 178ms/step - accuracy: 0.9999 - loss: 4.2083e-04 - val_accuracy: 0.9735 - val_loss: 0.0719\n",
            "Epoch 8/10\n",
            "\u001b[1m500/500\u001b[0m \u001b[32m━━━━━━━━━━━━━━━━━━━━\u001b[0m\u001b[37m\u001b[0m \u001b[1m134s\u001b[0m 163ms/step - accuracy: 0.9949 - loss: 0.0166 - val_accuracy: 0.9995 - val_loss: 0.0010\n",
            "Epoch 9/10\n",
            "\u001b[1m500/500\u001b[0m \u001b[32m━━━━━━━━━━━━━━━━━━━━\u001b[0m\u001b[37m\u001b[0m \u001b[1m80s\u001b[0m 160ms/step - accuracy: 0.9988 - loss: 0.0039 - val_accuracy: 0.9995 - val_loss: 5.1271e-04\n",
            "Epoch 10/10\n",
            "\u001b[1m500/500\u001b[0m \u001b[32m━━━━━━━━━━━━━━━━━━━━\u001b[0m\u001b[37m\u001b[0m \u001b[1m83s\u001b[0m 162ms/step - accuracy: 1.0000 - loss: 9.4276e-05 - val_accuracy: 0.9998 - val_loss: 4.3706e-04\n"
          ]
        },
        {
          "output_type": "execute_result",
          "data": {
            "text/plain": [
              "<keras.src.callbacks.history.History at 0x7897a5156110>"
            ]
          },
          "metadata": {},
          "execution_count": 9
        }
      ]
    },
    {
      "cell_type": "code",
      "source": [
        "loss, accuracy = model.evaluate(X_test, y_test)\n",
        "print(f\"Test accuracy: {accuracy * 100:.2f}%\")"
      ],
      "metadata": {
        "colab": {
          "base_uri": "https://localhost:8080/"
        },
        "id": "tasgAqC4AUQe",
        "outputId": "12f9d9c7-5965-458a-8198-9027b9317a9e"
      },
      "execution_count": 10,
      "outputs": [
        {
          "output_type": "stream",
          "name": "stdout",
          "text": [
            "\u001b[1m125/125\u001b[0m \u001b[32m━━━━━━━━━━━━━━━━━━━━\u001b[0m\u001b[37m\u001b[0m \u001b[1m6s\u001b[0m 45ms/step - accuracy: 0.9999 - loss: 1.8130e-04\n",
            "Test accuracy: 99.98%\n"
          ]
        }
      ]
    },
    {
      "cell_type": "code",
      "source": [
        "model.save(\"gesture_model.h5\")"
      ],
      "metadata": {
        "colab": {
          "base_uri": "https://localhost:8080/"
        },
        "id": "mztdi7YsAYB1",
        "outputId": "c4426982-9298-4721-ca33-19da8fcf6153"
      },
      "execution_count": 11,
      "outputs": [
        {
          "output_type": "stream",
          "name": "stderr",
          "text": [
            "WARNING:absl:You are saving your model as an HDF5 file via `model.save()` or `keras.saving.save_model(model)`. This file format is considered legacy. We recommend using instead the native Keras format, e.g. `model.save('my_model.keras')` or `keras.saving.save_model(model, 'my_model.keras')`. \n"
          ]
        }
      ]
    },
    {
      "cell_type": "code",
      "source": [
        "from tensorflow.keras.models import load_model\n",
        "\n",
        "model = load_model(\"gesture_model.h5\")"
      ],
      "metadata": {
        "colab": {
          "base_uri": "https://localhost:8080/"
        },
        "id": "8PM3yJfrAZ5p",
        "outputId": "663a7df2-7746-4bb2-89da-700c9451b75f"
      },
      "execution_count": 12,
      "outputs": [
        {
          "output_type": "stream",
          "name": "stderr",
          "text": [
            "WARNING:absl:Compiled the loaded model, but the compiled metrics have yet to be built. `model.compile_metrics` will be empty until you train or evaluate the model.\n"
          ]
        }
      ]
    },
    {
      "cell_type": "code",
      "source": [
        "# Evaluate performance\n",
        "loss, accuracy = model.evaluate(X_test, y_test)\n",
        "print(f\"Test accuracy: {accuracy * 100:.2f}%\")\n",
        "\n",
        "# OR make predictions:\n",
        "predictions = model.predict(X_test)\n",
        "\n",
        "# OR plot a confusion matrix, etc."
      ],
      "metadata": {
        "colab": {
          "base_uri": "https://localhost:8080/"
        },
        "id": "66Dlq-5xAcpb",
        "outputId": "ec26c866-808b-41ab-d930-d56ddea2a3cb"
      },
      "execution_count": 13,
      "outputs": [
        {
          "output_type": "stream",
          "name": "stdout",
          "text": [
            "\u001b[1m125/125\u001b[0m \u001b[32m━━━━━━━━━━━━━━━━━━━━\u001b[0m\u001b[37m\u001b[0m \u001b[1m5s\u001b[0m 35ms/step - accuracy: 0.9999 - loss: 1.8130e-04\n",
            "Test accuracy: 99.98%\n",
            "\u001b[1m125/125\u001b[0m \u001b[32m━━━━━━━━━━━━━━━━━━━━\u001b[0m\u001b[37m\u001b[0m \u001b[1m4s\u001b[0m 34ms/step\n"
          ]
        }
      ]
    },
    {
      "cell_type": "code",
      "source": [
        "import numpy as np\n",
        "import matplotlib.pyplot as plt\n",
        "from sklearn.metrics import confusion_matrix, ConfusionMatrixDisplay"
      ],
      "metadata": {
        "id": "z4OP7edBAi0_"
      },
      "execution_count": 14,
      "outputs": []
    },
    {
      "cell_type": "code",
      "source": [
        "# Convert one-hot encoded y_test back to class indices\n",
        "y_true = np.argmax(y_test, axis=1)\n",
        "y_pred = np.argmax(predictions, axis=1)\n",
        "\n",
        "# Confusion matrix\n",
        "cm = confusion_matrix(y_true, y_pred)\n",
        "disp = ConfusionMatrixDisplay(confusion_matrix=cm, display_labels=labels.keys())\n",
        "disp.plot(cmap=plt.cm.Blues)\n",
        "plt.title(\"Confusion Matrix\")\n",
        "plt.show()"
      ],
      "metadata": {
        "colab": {
          "base_uri": "https://localhost:8080/",
          "height": 472
        },
        "id": "EVaaK_naAlGT",
        "outputId": "288c3897-76fb-424a-f84c-0920af060432"
      },
      "execution_count": 15,
      "outputs": [
        {
          "output_type": "display_data",
          "data": {
            "text/plain": [
              "<Figure size 640x480 with 2 Axes>"
            ],
            "image/png": "[encoded data removed]"
          },
          "metadata": {}
        }
      ]
    }
  ]
}